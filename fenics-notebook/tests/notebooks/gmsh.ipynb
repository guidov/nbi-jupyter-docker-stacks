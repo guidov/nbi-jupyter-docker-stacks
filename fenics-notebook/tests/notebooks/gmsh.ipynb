{
 "cells": [
  {
   "cell_type": "code",
   "execution_count": null,
   "metadata": {},
   "outputs": [],
   "source": [
    "import pygmsh\n",
    "import meshio\n",
    "import numpy as np\n",
    "\n",
    "geom = pygmsh.built_in.Geometry()\n",
    "\n",
    "# Draw a cross.\n",
    "poly = geom.add_polygon([\n",
    "    [ 0.0,  0.5, 0.0],\n",
    "    [-0.1,  0.1, 0.0],\n",
    "    [-0.5,  0.0, 0.0],\n",
    "    [-0.1, -0.1, 0.0],\n",
    "    [ 0.0, -0.5, 0.0],\n",
    "    [ 0.1, -0.1, 0.0],\n",
    "    [ 0.5,  0.0, 0.0],\n",
    "    [ 0.1,  0.1, 0.0]\n",
    "    ],\n",
    "    lcar=0.05\n",
    "    )\n",
    "\n",
    "axis = [0, 0, 1]\n",
    "\n",
    "geom.extrude(\n",
    "    poly,\n",
    "    translation_axis=axis,\n",
    "    rotation_axis=axis,\n",
    "    point_on_axis=[0, 0, 0],\n",
    "    angle=2.0 / 6.0 * np.pi\n",
    "    )\n",
    "\n",
    "mesh = pygmsh.generate_mesh(geom)\n",
    "\n",
    "meshio.write('test.vtk', mesh)"
   ]
  }
 ],
 "metadata": {
  "kernelspec": {
   "display_name": "Python 3",
   "language": "python",
   "name": "python3"
  },
  "language_info": {
   "codemirror_mode": {
    "name": "ipython",
    "version": 3
   },
   "file_extension": ".py",
   "mimetype": "text/x-python",
   "name": "python",
   "nbconvert_exporter": "python",
   "pygments_lexer": "ipython3",
   "version": "3.6.7"
  }
 },
 "nbformat": 4,
 "nbformat_minor": 2
}
