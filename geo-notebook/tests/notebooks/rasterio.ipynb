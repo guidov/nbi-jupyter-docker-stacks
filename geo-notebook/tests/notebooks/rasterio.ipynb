{
 "cells": [
  {
   "cell_type": "code",
   "execution_count": 12,
   "metadata": {},
   "outputs": [],
   "source": [
    "import rasterio\n",
    "import rasterio.features\n",
    "import rasterio.warp\n",
    "\n",
    "expected_coordinates = [[[-78.95865, 25.506087],\n",
    "                         [-78.898133, 23.564991],\n",
    "                         [-76.574924, 23.605947],\n",
    "                         [-76.599438, 25.550874],\n",
    "                         [-78.95865, 25.506087]]]\n",
    "\n",
    "with rasterio.open('../res/RGB2.byte.tif') as dataset:\n",
    "\n",
    "    # Read the dataset's valid data mask as a ndarray.\n",
    "    mask = dataset.dataset_mask()\n",
    "\n",
    "    # Extract feature shapes and values from the array.\n",
    "    for geom, val in rasterio.features.shapes(\n",
    "            mask, transform=dataset.transform):\n",
    "\n",
    "        # Transform shapes from the dataset's own coordinate\n",
    "        # reference system to CRS84 (EPSG:4326).\n",
    "        geom = rasterio.warp.transform_geom(\n",
    "            dataset.crs, 'EPSG:4326', geom, precision=6)\n",
    "\n",
    "        # Print GeoJSON shapes to stdout.\n",
    "        assert geom['coordinates'] == expected_coordinates"
   ]
  },
  {
   "cell_type": "code",
   "execution_count": null,
   "metadata": {},
   "outputs": [],
   "source": []
  }
 ],
 "metadata": {
  "kernelspec": {
   "display_name": "Python 3",
   "language": "python",
   "name": "python3"
  },
  "language_info": {
   "codemirror_mode": {
    "name": "ipython",
    "version": 3
   },
   "file_extension": ".py",
   "mimetype": "text/x-python",
   "name": "python",
   "nbconvert_exporter": "python",
   "pygments_lexer": "ipython3",
   "version": "3.6.7"
  }
 },
 "nbformat": 4,
 "nbformat_minor": 2
}
